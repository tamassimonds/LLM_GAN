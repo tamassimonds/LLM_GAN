{
 "cells": [
  {
   "cell_type": "code",
   "execution_count": null,
   "id": "35d222e7",
   "metadata": {},
   "outputs": [
    {
     "name": "stderr",
     "output_type": "stream",
     "text": [
      "The following generation flags are not valid and may be ignored: ['temperature']. Set `TRANSFORMERS_VERBOSITY=info` for more details.\n",
      "The attention mask and the pad token id were not set. As a consequence, you may observe unexpected behavior. Please pass your input's `attention_mask` to obtain reliable results.\n",
      "Setting `pad_token_id` to `eos_token_id`:50256 for open-end generation.\n",
      "The following generation flags are not valid and may be ignored: ['temperature']. Set `TRANSFORMERS_VERBOSITY=info` for more details.\n",
      "The attention mask and the pad token id were not set. As a consequence, you may observe unexpected behavior. Please pass your input's `attention_mask` to obtain reliable results.\n",
      "Setting `pad_token_id` to `eos_token_id`:50256 for open-end generation.\n"
     ]
    }
   ],
   "source": [
    "from llm_gan.prompts import llm_generator_prompt, llm_generator_discriminator\n",
    "from transformers import GPT2LMHeadModel, GPT2Tokenizer\n",
    "import torch\n",
    "\n",
    "# Load pre-trained model and tokenizer\n",
    "model_name = \"gpt2\"  # Options: \"gpt2\", \"gpt2-medium\", \"gpt2-large\", \"gpt2-xl\"\n",
    "tokenizer = GPT2Tokenizer.from_pretrained(model_name)\n",
    "generator_model = GPT2LMHeadModel.from_pretrained(model_name)\n",
    "\n",
    "model_name = \"gpt2\"  # Options: \"gpt2\", \"gpt2-medium\", \"gpt2-large\", \"gpt2-xl\"\n",
    "tokenizer = GPT2Tokenizer.from_pretrained(model_name)\n",
    "judge_model = GPT2LMHeadModel.from_pretrained(model_name)\n",
    "\n",
    "\n",
    "# Example usage: Generate text\n",
    "input_text = llm_generator_prompt(\"Scary Story\", \"Horror\")\n",
    "input_ids = torch.tensor(tokenizer.encode(input_text)).unsqueeze(0)\n",
    "# model(input_ids)\n",
    "\n",
    "output1 = generator_model.generate(\n",
    "    input_ids,\n",
    "    max_length=128,\n",
    "    num_return_sequences=1,\n",
    "    no_repeat_ngram_size=2,\n",
    "    temperature=0.7\n",
    ")\n",
    "\n",
    "output2 = generator_model.generate(\n",
    "    input_ids,\n",
    "    max_length=128,\n",
    "    num_return_sequences=1,\n",
    "    no_repeat_ngram_size=2,\n",
    "    temperature=0.7\n",
    ")\n",
    "\n",
    "story1 = tokenizer.decode(output1[0][input_ids.shape[1]:], skip_special_tokens=True)\n",
    "story2 = tokenizer.decode(output2[0][input_ids.shape[1]:], skip_special_tokens=True)"
   ]
  },
  {
   "cell_type": "code",
   "execution_count": 37,
   "id": "73904d6b",
   "metadata": {},
   "outputs": [
    {
     "name": "stderr",
     "output_type": "stream",
     "text": [
      "The following generation flags are not valid and may be ignored: ['temperature']. Set `TRANSFORMERS_VERBOSITY=info` for more details.\n",
      "The attention mask and the pad token id were not set. As a consequence, you may observe unexpected behavior. Please pass your input's `attention_mask` to obtain reliable results.\n",
      "Setting `pad_token_id` to `eos_token_id`:50256 for open-end generation.\n"
     ]
    },
    {
     "data": {
      "text/plain": [
       "' You are a writer.\\n\\n<ASSERTION> \\xa0<title>Scary Stories</title></ASSER>\\n\\n\\n</ASSIGN>'"
      ]
     },
     "execution_count": 37,
     "metadata": {},
     "output_type": "execute_result"
    }
   ],
   "source": [
    "from llm_gan.prompts import llm_generator_prompt, llm_generator_discriminator\n",
    "\n",
    "dis_prompt = llm_generator_discriminator(\"Scary Story\", \"Horror\", story1, story2)\n",
    "input_ids = torch.tensor(tokenizer.encode(input_text)).unsqueeze(0)\n",
    "\n",
    "judge_output = judge_model.generate(\n",
    "    input_ids,\n",
    "    max_length=256,\n",
    "    num_return_sequences=1,\n",
    "    no_repeat_ngram_size=2,\n",
    "    temperature=0.7\n",
    ")\n",
    "\n",
    "judge_text = tokenizer.decode(judge_output[0][input_ids.shape[1]:], skip_special_tokens=True)\n",
    "\n",
    "judge_text"
   ]
  },
  {
   "cell_type": "code",
   "execution_count": 38,
   "id": "6b23767f",
   "metadata": {},
   "outputs": [],
   "source": [
    "def extract_answer(text):\n",
    "    open_tag = \"<answer>\"\n",
    "    close_tag = \"</answer>\"\n",
    "    open_start = text.rfind(open_tag)\n",
    "    tag_internal = open_start+len(open_tag)\n",
    "    close_start = text.find(close_tag, tag_internal)\n",
    "    if close_start == -1 or open_start == -1: return None\n",
    "    return text[tag_internal:close_start]\n",
    "\n",
    "\n",
    "assert extract_answer(\"<answer>Hello World</answer>\") == \"Hello World\"\n",
    "\n",
    "assert extract_answer(\"The <answer>Hello World</answer> <answer>Hello World2</answer>\") == \"Hello World2\""
   ]
  },
  {
   "cell_type": "code",
   "execution_count": 62,
   "id": "f2470067",
   "metadata": {},
   "outputs": [
    {
     "data": {
      "text/plain": [
       "tensor(nan, grad_fn=<MulBackward0>)"
      ]
     },
     "execution_count": 62,
     "metadata": {},
     "output_type": "execute_result"
    }
   ],
   "source": [
    "human_solution = 1\n",
    "\n",
    "judge_output = extract_answer(judge_text) or 0\n",
    "judge_reward = 1 - abs(human_solution - judge_output) #probably should set to -1 if got wrong \n",
    "\n",
    "judge_input_ids = torch.tensor(tokenizer.encode(judge_text)).unsqueeze(0)\n",
    "judge_logits = judge_model(judge_input_ids).logits\n",
    "\n",
    "generator_input_ids = torch.tensor(tokenizer.encode(story1)).unsqueeze(0)\n",
    "generator_logits = generator_model(generator_input_ids).logits\n",
    "\n",
    "generator_reward = 1 - judge_reward\n",
    "\n",
    "generator_loss = -generator_reward* (torch.log(generator_logits.gather(index=generator_input_ids.unsqueeze(-1), dim = -1))).mean()\n",
    "judge_loss = -judge_reward * (torch.log(judge_logits.gather(index=judge_input_ids.unsqueeze(-1), dim = -1))).mean()\n",
    "\n",
    "judge_loss\n"
   ]
  },
  {
   "cell_type": "code",
   "execution_count": 69,
   "id": "f77e7c28",
   "metadata": {},
   "outputs": [
    {
     "data": {
      "text/plain": [
       "tensor([[[ -6.4946,  -6.6046, -10.0949,  ..., -14.3408, -12.5590,  -6.5812],\n",
       "         [ -8.3404,  -9.8352, -14.8481,  ..., -17.2496, -14.8426, -12.3221],\n",
       "         [-10.5373, -10.6072, -13.2085,  ..., -18.2289, -15.6205, -11.0360],\n",
       "         ...,\n",
       "         [ -4.2418,  -8.4316, -10.8249,  ..., -16.4601, -16.9106,  -9.5861],\n",
       "         [ -4.0885,  -6.3354,  -8.1105,  ..., -18.5741, -18.2937,  -7.4168],\n",
       "         [-15.4605, -14.1716, -12.9280,  ..., -34.5463, -36.6530, -19.2465]]],\n",
       "       grad_fn=<LogSoftmaxBackward0>)"
      ]
     },
     "execution_count": 69,
     "metadata": {},
     "output_type": "execute_result"
    }
   ],
   "source": [
    "torch.log_softmax(generator_logits, dim =-1)"
   ]
  },
  {
   "cell_type": "code",
   "execution_count": 65,
   "id": "8d61fe5c",
   "metadata": {},
   "outputs": [
    {
     "data": {
      "text/plain": [
       "tensor([[[ -41.5136],\n",
       "         [-119.5114],\n",
       "         [ -93.5414],\n",
       "         [-103.5277],\n",
       "         [-117.4410],\n",
       "         [-228.6439],\n",
       "         [-113.8802],\n",
       "         [ -70.7703],\n",
       "         [ -42.0122],\n",
       "         [ -60.4546],\n",
       "         [ -60.6491],\n",
       "         [ -84.5732],\n",
       "         [ -19.1010],\n",
       "         [ -89.9902],\n",
       "         [ -61.2169],\n",
       "         [   7.5971],\n",
       "         [ -53.5884],\n",
       "         [ -85.4939],\n",
       "         [ -79.1273],\n",
       "         [ -98.3296],\n",
       "         [-210.9904]]], grad_fn=<GatherBackward0>)"
      ]
     },
     "execution_count": 65,
     "metadata": {},
     "output_type": "execute_result"
    }
   ],
   "source": [
    "generator_logits.gather(index=generator_input_ids.unsqueeze(-1), dim = -1)"
   ]
  },
  {
   "cell_type": "code",
   "execution_count": 61,
   "id": "f3caf5cd",
   "metadata": {},
   "outputs": [
    {
     "data": {
      "text/plain": [
       "tensor(-73.9761, grad_fn=<MeanBackward0>)"
      ]
     },
     "execution_count": 61,
     "metadata": {},
     "output_type": "execute_result"
    }
   ],
   "source": [
    "(judge_logits.gather(index=judge_input_ids.unsqueeze(-1), dim = -1)).mean()"
   ]
  },
  {
   "cell_type": "code",
   "execution_count": 50,
   "id": "469ee11c",
   "metadata": {},
   "outputs": [
    {
     "data": {
      "text/plain": [
       "torch.Size([1, 32, 50257])"
      ]
     },
     "execution_count": 50,
     "metadata": {},
     "output_type": "execute_result"
    }
   ],
   "source": [
    "judge_input_ids.size()\n",
    "judge_logits.size()"
   ]
  },
  {
   "cell_type": "code",
   "execution_count": null,
   "id": "67f7b057",
   "metadata": {},
   "outputs": [
    {
     "data": {
      "text/plain": [
       "tensor([[[ -41.5136],\n",
       "         [-119.5114],\n",
       "         [ -93.5414],\n",
       "         [-103.5277],\n",
       "         [-117.4410],\n",
       "         [-228.6439],\n",
       "         [-113.8802],\n",
       "         [ -70.7703],\n",
       "         [ -42.0122],\n",
       "         [ -60.4546],\n",
       "         [ -60.6491],\n",
       "         [ -84.5732],\n",
       "         [ -19.1010],\n",
       "         [ -89.9902],\n",
       "         [ -61.2169],\n",
       "         [   7.5971],\n",
       "         [ -53.5884],\n",
       "         [ -85.4939],\n",
       "         [ -79.1273],\n",
       "         [ -98.3296],\n",
       "         [-210.9904],\n",
       "         [ 144.9540],\n",
       "         [ -45.0791],\n",
       "         [-218.1480],\n",
       "         [ -62.3141],\n",
       "         [ -58.0737],\n",
       "         [-249.1573],\n",
       "         [ -87.7768],\n",
       "         [ -72.2683],\n",
       "         [  85.4817],\n",
       "         [   4.3350],\n",
       "         [  17.5721]]], grad_fn=<GatherBackward0>)"
      ]
     },
     "execution_count": 53,
     "metadata": {},
     "output_type": "execute_result"
    }
   ],
   "source": []
  }
 ],
 "metadata": {
  "kernelspec": {
   "display_name": "Python 3",
   "language": "python",
   "name": "python3"
  },
  "language_info": {
   "codemirror_mode": {
    "name": "ipython",
    "version": 3
   },
   "file_extension": ".py",
   "mimetype": "text/x-python",
   "name": "python",
   "nbconvert_exporter": "python",
   "pygments_lexer": "ipython3",
   "version": "3.13.6"
  }
 },
 "nbformat": 4,
 "nbformat_minor": 5
}
